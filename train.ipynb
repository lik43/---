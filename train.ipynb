{
 "cells": [
  {
   "cell_type": "code",
   "execution_count": 40,
   "id": "52061dce-bd77-48b0-984c-dc5092fead8d",
   "metadata": {},
   "outputs": [],
   "source": [
    "import pandas as pd\n",
    "import numpy as np\n",
    "import seaborn as sns\n",
    "import matplotlib.pyplot as plt\n",
    "from catboost import CatBoostRegressor\n",
    "from xgboost import XGBRegressor\n",
    "from lightgbm import LGBMRegressor\n",
    "from sklearn.linear_model import LinearRegression\n",
    "from sklearn.ensemble import RandomForestRegressor\n",
    "from sklearn.metrics import root_mean_squared_error, r2_score\n",
    "from sklearn.model_selection import train_test_split\n",
    "from time import time\n",
    "from sklearn.tree import DecisionTreeRegressor\n",
    "import gc\n",
    "import joblib"
   ]
  },
  {
   "cell_type": "markdown",
   "id": "9fef9ab8-0cd7-47de-9a0e-50dc5493d44a",
   "metadata": {},
   "source": [
    "# Разработка модели машинного обучения"
   ]
  },
  {
   "cell_type": "markdown",
   "id": "0532ba04-a8fc-4c5c-a12b-f6a812951ddd",
   "metadata": {},
   "source": [
    "Загрузим данные"
   ]
  },
  {
   "cell_type": "code",
   "execution_count": 2,
   "id": "d33262bd-e153-4097-8842-1050276b3948",
   "metadata": {},
   "outputs": [],
   "source": [
    "X = pd.read_feather('/home/c4/Рабочий стол/C4_M4/data_X')\n",
    "y = pd.read_feather('/home/c4/Рабочий стол/C4_M4/data_y')"
   ]
  },
  {
   "cell_type": "markdown",
   "id": "d1003fff-e482-4904-b82b-fd5084839d0a",
   "metadata": {},
   "source": [
    "Разделим наши данные на обучающую и тестовую выборку"
   ]
  },
  {
   "cell_type": "code",
   "execution_count": 3,
   "id": "e79df645-070b-49dd-b63f-b67f7300ac3a",
   "metadata": {},
   "outputs": [],
   "source": [
    "RANDOM_SEED = 5022025"
   ]
  },
  {
   "cell_type": "code",
   "execution_count": 4,
   "id": "06068c27-57c2-4fd0-bd6d-ee66d276ac7c",
   "metadata": {},
   "outputs": [],
   "source": [
    "X_train, X_test, y_train, y_test = train_test_split(X,y, test_size=0.2, random_state=RANDOM_SEED)"
   ]
  },
  {
   "cell_type": "markdown",
   "id": "9e80c58c-9d03-4d81-9109-98dcf88853d7",
   "metadata": {},
   "source": [
    "Закон больших чисел утверждает, что при увеличении объема выборки результаты становятся более предсказуемыми и менее подвержены случайным колебаниям. Так как у нас 120 миллионов строк тренировочных данных, то обучим наши модели только на части данных."
   ]
  },
  {
   "cell_type": "code",
   "execution_count": 5,
   "id": "bd31a20b-b209-481a-a0a2-dddaa51fdc81",
   "metadata": {},
   "outputs": [],
   "source": [
    "X_train_sh = X_train.sample(frac=0.4, random_state=RANDOM_SEED)"
   ]
  },
  {
   "cell_type": "code",
   "execution_count": 6,
   "id": "4a4560d0-18bd-4d47-99f4-215029df2404",
   "metadata": {},
   "outputs": [],
   "source": [
    "idx = X_train_sh.index.to_list()"
   ]
  },
  {
   "cell_type": "code",
   "execution_count": 7,
   "id": "01e17bbe-6776-456b-8fe1-77338396fc2f",
   "metadata": {},
   "outputs": [],
   "source": [
    "y_train_sh = y_train.loc[y_train.index.isin(idx)]"
   ]
  },
  {
   "cell_type": "markdown",
   "id": "67da8f1b-924c-4c7f-beee-1834694f46fc",
   "metadata": {},
   "source": [
    "## Линейная модель"
   ]
  },
  {
   "cell_type": "markdown",
   "id": "250f6968-e8a3-42ff-a575-24b172e006b3",
   "metadata": {},
   "source": [
    "Ввиду простоты линейной модели, то подадим ей на вход все тренировочные данные"
   ]
  },
  {
   "cell_type": "code",
   "execution_count": 8,
   "id": "86e5f6ad-3c4a-41b2-968f-dd629b0cb518",
   "metadata": {},
   "outputs": [],
   "source": [
    "lin_model = LinearRegression(n_jobs=-1)"
   ]
  },
  {
   "cell_type": "code",
   "execution_count": 9,
   "id": "512d95fc-70b7-4f3f-ab6f-5902d5b03e0c",
   "metadata": {},
   "outputs": [],
   "source": [
    "start = time()\n",
    "lin_model.fit(X_train,y_train)\n",
    "end = time()"
   ]
  },
  {
   "cell_type": "code",
   "execution_count": 10,
   "id": "7e228a28-fe29-4c2c-af81-b8aa54cff410",
   "metadata": {},
   "outputs": [],
   "source": [
    "y_pred = lin_model.predict(X_test)"
   ]
  },
  {
   "cell_type": "code",
   "execution_count": 11,
   "id": "2a41ae09-e965-49c9-b815-82ad387b1c48",
   "metadata": {},
   "outputs": [],
   "source": [
    "r2_lin = r2_score(y_test, y_pred)"
   ]
  },
  {
   "cell_type": "code",
   "execution_count": 12,
   "id": "c044bd49-0361-4afd-a13f-64761256b0a7",
   "metadata": {},
   "outputs": [],
   "source": [
    "rmse_lin = root_mean_squared_error(y_test, y_pred)"
   ]
  },
  {
   "cell_type": "code",
   "execution_count": 13,
   "id": "9dd90392-90dc-431a-88cc-8f6f86c1049c",
   "metadata": {},
   "outputs": [
    {
     "name": "stdout",
     "output_type": "stream",
     "text": [
      "Время потраченное на обучение составило 30.765994787216187 секунд\n"
     ]
    }
   ],
   "source": [
    "print(f'Время потраченное на обучение составило {end - start} секунд')"
   ]
  },
  {
   "cell_type": "code",
   "execution_count": 14,
   "id": "c483e2f7-1efe-41fc-b2c9-031b741f27db",
   "metadata": {},
   "outputs": [
    {
     "name": "stdout",
     "output_type": "stream",
     "text": [
      "Полученные метрики линейной регрессии: R2= 0.43254926800727844, RMSE= 930.2916259765625\n"
     ]
    }
   ],
   "source": [
    "print(f'Полученные метрики линейной регрессии: R2= {r2_lin}, RMSE= {rmse_lin}')"
   ]
  },
  {
   "cell_type": "markdown",
   "id": "f5b67070-e140-4c51-9f4a-de444f86a654",
   "metadata": {},
   "source": [
    "На тестовой выборке линейная регрессия обученная на тренировочных данных показала $R2 = 0.432$, $RMSE = 930$"
   ]
  },
  {
   "cell_type": "markdown",
   "id": "4d9bc0d6-fba1-4302-9205-6583bf10d587",
   "metadata": {},
   "source": [
    "Обучим случайный лес"
   ]
  },
  {
   "cell_type": "markdown",
   "id": "0713cc35-83b4-45d5-8e3c-a7993c3db181",
   "metadata": {},
   "source": [
    "Так как Random Forest не так сильно оптимизирован как алгоритмы градиентного бустинга, и не такая простоая как линейная модель, то обучим ее на малых данных"
   ]
  },
  {
   "cell_type": "code",
   "execution_count": 15,
   "id": "75f252f8-3569-42d1-a90e-151ef2f72a48",
   "metadata": {},
   "outputs": [],
   "source": [
    "X_train_sh_1 = X_train.sample(frac=0.1, random_state=RANDOM_SEED)\n",
    "idx = X_train_sh_1.index.to_list()\n",
    "y_train_sh_1 = y_train.loc[y_train.index.isin(idx)]"
   ]
  },
  {
   "cell_type": "code",
   "execution_count": 26,
   "id": "a6f2cb26-bc35-460e-a017-a8fddefe1aed",
   "metadata": {},
   "outputs": [],
   "source": [
    "rf = RandomForestRegressor(n_jobs=-1, random_state=RANDOM_SEED, n_estimators=1, bootstrap=True, max_depth=1)"
   ]
  },
  {
   "cell_type": "code",
   "execution_count": 27,
   "id": "d13ac729-fe5d-421a-a06b-73a8354e7676",
   "metadata": {},
   "outputs": [],
   "source": [
    "start_rf = time()\n",
    "rf.fit(X_train_sh_1,y_train_sh_1)\n",
    "end_rf = time()"
   ]
  },
  {
   "cell_type": "code",
   "execution_count": 28,
   "id": "5c2242d8-2644-46b7-b5a5-ad3cf86dcce0",
   "metadata": {},
   "outputs": [],
   "source": [
    "y_pred = rf.predict(X_test)"
   ]
  },
  {
   "cell_type": "code",
   "execution_count": 29,
   "id": "a0f99aa2-5cac-46a8-859d-63a4a7bc4324",
   "metadata": {},
   "outputs": [],
   "source": [
    "r2_rf = r2_score(y_test, y_pred)\n",
    "rmse_rf = root_mean_squared_error(y_test,y_pred)"
   ]
  },
  {
   "cell_type": "code",
   "execution_count": 30,
   "id": "e55c9030-5532-46e2-92a7-23ea2f4d015c",
   "metadata": {},
   "outputs": [
    {
     "name": "stdout",
     "output_type": "stream",
     "text": [
      "Время потраченное на обучение составило 24.489259243011475 секунд\n"
     ]
    }
   ],
   "source": [
    "print(f'Время потраченное на обучение составило {end_rf - start_rf} секунд')"
   ]
  },
  {
   "cell_type": "code",
   "execution_count": 31,
   "id": "91b33790-b9d0-4cdd-8672-24ff622ef8c8",
   "metadata": {},
   "outputs": [
    {
     "name": "stdout",
     "output_type": "stream",
     "text": [
      "Полученные метрики линейной регрессии: R2= 9.163704340087175e-05, RMSE= 1234.3690066002296\n"
     ]
    }
   ],
   "source": [
    "print(f'Полученные метрики линейной регрессии: R2= {r2_rf}, RMSE= {rmse_rf}')"
   ]
  },
  {
   "cell_type": "markdown",
   "id": "f1b95e00-6ea8-4ae9-b71a-c2ad1650db5d",
   "metadata": {},
   "source": [
    "## Градиентные бустинги"
   ]
  },
  {
   "cell_type": "code",
   "execution_count": 42,
   "id": "5bdbcf43-d724-455d-9daf-02011d19852f",
   "metadata": {},
   "outputs": [],
   "source": [
    "lgb = LGBMRegressor(random_state=RANDOM_SEED, n_jobs=-1, n_estimators=100, early_stopping_rounds=5)"
   ]
  },
  {
   "cell_type": "code",
   "execution_count": 43,
   "id": "3367d142-5fdf-4e72-b57d-04b4c9268b98",
   "metadata": {},
   "outputs": [
    {
     "name": "stdout",
     "output_type": "stream",
     "text": [
      "[LightGBM] [Warning] early_stopping_round is set=5, early_stopping_rounds=5 will be ignored. Current value: early_stopping_round=5\n",
      "[LightGBM] [Info] Auto-choosing col-wise multi-threading, the overhead of testing was 0.272692 seconds.\n",
      "You can set `force_col_wise=true` to remove the overhead.\n",
      "[LightGBM] [Info] Total Bins 1785\n",
      "[LightGBM] [Info] Number of data points in the train set: 38400000, number of used features: 7\n",
      "[LightGBM] [Warning] early_stopping_round is set=5, early_stopping_rounds=5 will be ignored. Current value: early_stopping_round=5\n",
      "[LightGBM] [Info] Start training from score 2761.604222\n",
      "Training until validation scores don't improve for 5 rounds\n",
      "Early stopping, best iteration is:\n",
      "[4]\tvalid_0's rmse: 1181.18\tvalid_0's l2: 1.39519e+06\n"
     ]
    }
   ],
   "source": [
    "start_1 = time()\n",
    "lgb.fit(X_train_sh, y_train_sh['0'],\n",
    "       eval_set=(X_test, y_test['0']), eval_metric=['rmse', 'r2'])\n",
    "end_1 = time()"
   ]
  },
  {
   "cell_type": "code",
   "execution_count": 45,
   "id": "ce9f4777-99ef-4d12-8d5e-78fa504b9ec6",
   "metadata": {},
   "outputs": [],
   "source": [
    "y_pred_sh = lgb.predict(X_test)"
   ]
  },
  {
   "cell_type": "code",
   "execution_count": 46,
   "id": "678929cc-eb4d-43c9-8d57-66af31fdd911",
   "metadata": {},
   "outputs": [],
   "source": [
    "r2_lgb_1 = r2_score(y_test['0'], y_pred_sh)"
   ]
  },
  {
   "cell_type": "code",
   "execution_count": 47,
   "id": "3db659fd-21cf-49d8-8983-13241738d170",
   "metadata": {},
   "outputs": [],
   "source": [
    "rmse_lgb_1 = root_mean_squared_error(y_test['0'], y_pred_sh)"
   ]
  },
  {
   "cell_type": "code",
   "execution_count": 48,
   "id": "da35bfc8-a419-4bf3-b074-15e75455253a",
   "metadata": {},
   "outputs": [
    {
     "name": "stdout",
     "output_type": "stream",
     "text": [
      "[LightGBM] [Warning] early_stopping_round is set=5, early_stopping_rounds=5 will be ignored. Current value: early_stopping_round=5\n",
      "[LightGBM] [Info] Auto-choosing row-wise multi-threading, the overhead of testing was 0.088550 seconds.\n",
      "You can set `force_row_wise=true` to remove the overhead.\n",
      "And if memory is not enough, you can set `force_col_wise=true`.\n",
      "[LightGBM] [Info] Total Bins 1785\n",
      "[LightGBM] [Info] Number of data points in the train set: 38400000, number of used features: 7\n",
      "[LightGBM] [Warning] early_stopping_round is set=5, early_stopping_rounds=5 will be ignored. Current value: early_stopping_round=5\n",
      "[LightGBM] [Info] Start training from score 3088.561501\n",
      "Training until validation scores don't improve for 5 rounds\n",
      "Early stopping, best iteration is:\n",
      "[12]\tvalid_0's rmse: 1287.59\tvalid_0's l2: 1.65788e+06\n"
     ]
    }
   ],
   "source": [
    "start_2 = time()\n",
    "lgb.fit(X_train_sh, y_train_sh['1'],\n",
    "       eval_set=(X_test, y_test['1']), eval_metric=['rmse', 'r2'])\n",
    "end_2 = time()"
   ]
  },
  {
   "cell_type": "code",
   "execution_count": 49,
   "id": "ad2fb85b-a54a-4dd1-8da5-1b0d0a4c49ea",
   "metadata": {},
   "outputs": [],
   "source": [
    "y_pred_sh = lgb.predict(X_test)"
   ]
  },
  {
   "cell_type": "code",
   "execution_count": 50,
   "id": "d0b0325f-d618-45d0-a7af-37f3368ef62f",
   "metadata": {},
   "outputs": [],
   "source": [
    "r2_lgb_2 = r2_score(y_test['1'], y_pred_sh)"
   ]
  },
  {
   "cell_type": "code",
   "execution_count": 51,
   "id": "6e6befda-75bb-48d0-b2af-aaee7c61554d",
   "metadata": {},
   "outputs": [],
   "source": [
    "rmse_lgb_2 = root_mean_squared_error(y_test['1'], y_pred_sh)"
   ]
  },
  {
   "cell_type": "code",
   "execution_count": 52,
   "id": "f9a82a87-dd40-4b4f-a1ef-070afe1b4af8",
   "metadata": {},
   "outputs": [
    {
     "name": "stdout",
     "output_type": "stream",
     "text": [
      "Время потраченное на обучение составило 53.742021322250366 секунд\n"
     ]
    }
   ],
   "source": [
    "print(f'Время потраченное на обучение составило {end_2 - start_2 + end_1 - start_1} секунд')"
   ]
  },
  {
   "cell_type": "code",
   "execution_count": 54,
   "id": "3a91fe44-32a3-4d22-a677-7187179f1e93",
   "metadata": {},
   "outputs": [
    {
     "name": "stdout",
     "output_type": "stream",
     "text": [
      "Среднее значение метрик для LGBM составило RMSE = 1234.384614393801, R2= 6.614457621684222e-05\n"
     ]
    }
   ],
   "source": [
    "print(f'Среднее значение метрик для LGBM составило RMSE = {(rmse_lgb_1 + rmse_lgb_2)/2}, R2= {(r2_lgb_1+r2_lgb_2)/2}')"
   ]
  },
  {
   "cell_type": "markdown",
   "id": "52f39cbb-e86c-4fef-b230-0f9631aea0fb",
   "metadata": {},
   "source": [
    "Напишем наш пайплайн"
   ]
  },
  {
   "cell_type": "markdown",
   "id": "f2dce149-f0da-41c2-b413-4aaea405d654",
   "metadata": {},
   "source": [
    "Так как метрики получились гораздо лучше, чем у LGBM и Случайного леса, выберем ее за основную"
   ]
  },
  {
   "cell_type": "code",
   "execution_count": 36,
   "id": "77e35ad6-50d9-4816-b93d-d8538e9190ca",
   "metadata": {},
   "outputs": [],
   "source": [
    "def pipeline(train_data_path, train_target_path, val_data_path, val_target_path):\n",
    "    X_train = pd.read_feather(train_data_path)\n",
    "    X_val = pd.read_feather(val_data_path)\n",
    "    y_train = pd.read_feather(train_target_path)\n",
    "    y_val = pd.read_feather(val_target_path)\n",
    "\n",
    "    model = LinearRegression(n_jobs=-1)\n",
    "    model.fit(X_train, y_train)\n",
    "\n",
    "    y_pred = model.predict(X_val)\n",
    "    r2 = r2_score(y_val, y_pred)\n",
    "    rmse = root_mean_squared_error(y_val, y_pred)\n",
    "    return [model, {'R2': r2, 'RMSE': rmse}]"
   ]
  },
  {
   "cell_type": "code",
   "execution_count": 37,
   "id": "3a42c6d7-31cf-4682-8087-8f9437276a67",
   "metadata": {},
   "outputs": [],
   "source": [
    "model, metric = pipeline(\n",
    "    train_data_path= '/home/c4/Рабочий стол/C4_M4/data_X',\n",
    "    train_target_path = '/home/c4/Рабочий стол/C4_M4/data_y',\n",
    "    val_data_path = '/home/c4/Рабочий стол/C4_M4/data_X_val',\n",
    "    val_target_path= '/home/c4/Рабочий стол/C4_M4/data_y_val'\n",
    ")"
   ]
  },
  {
   "cell_type": "code",
   "execution_count": 38,
   "id": "269f0088-dd28-46b1-af5d-dc689deebe19",
   "metadata": {},
   "outputs": [
    {
     "data": {
      "text/html": [
       "<style>#sk-container-id-1 {\n",
       "  /* Definition of color scheme common for light and dark mode */\n",
       "  --sklearn-color-text: #000;\n",
       "  --sklearn-color-text-muted: #666;\n",
       "  --sklearn-color-line: gray;\n",
       "  /* Definition of color scheme for unfitted estimators */\n",
       "  --sklearn-color-unfitted-level-0: #fff5e6;\n",
       "  --sklearn-color-unfitted-level-1: #f6e4d2;\n",
       "  --sklearn-color-unfitted-level-2: #ffe0b3;\n",
       "  --sklearn-color-unfitted-level-3: chocolate;\n",
       "  /* Definition of color scheme for fitted estimators */\n",
       "  --sklearn-color-fitted-level-0: #f0f8ff;\n",
       "  --sklearn-color-fitted-level-1: #d4ebff;\n",
       "  --sklearn-color-fitted-level-2: #b3dbfd;\n",
       "  --sklearn-color-fitted-level-3: cornflowerblue;\n",
       "\n",
       "  /* Specific color for light theme */\n",
       "  --sklearn-color-text-on-default-background: var(--sg-text-color, var(--theme-code-foreground, var(--jp-content-font-color1, black)));\n",
       "  --sklearn-color-background: var(--sg-background-color, var(--theme-background, var(--jp-layout-color0, white)));\n",
       "  --sklearn-color-border-box: var(--sg-text-color, var(--theme-code-foreground, var(--jp-content-font-color1, black)));\n",
       "  --sklearn-color-icon: #696969;\n",
       "\n",
       "  @media (prefers-color-scheme: dark) {\n",
       "    /* Redefinition of color scheme for dark theme */\n",
       "    --sklearn-color-text-on-default-background: var(--sg-text-color, var(--theme-code-foreground, var(--jp-content-font-color1, white)));\n",
       "    --sklearn-color-background: var(--sg-background-color, var(--theme-background, var(--jp-layout-color0, #111)));\n",
       "    --sklearn-color-border-box: var(--sg-text-color, var(--theme-code-foreground, var(--jp-content-font-color1, white)));\n",
       "    --sklearn-color-icon: #878787;\n",
       "  }\n",
       "}\n",
       "\n",
       "#sk-container-id-1 {\n",
       "  color: var(--sklearn-color-text);\n",
       "}\n",
       "\n",
       "#sk-container-id-1 pre {\n",
       "  padding: 0;\n",
       "}\n",
       "\n",
       "#sk-container-id-1 input.sk-hidden--visually {\n",
       "  border: 0;\n",
       "  clip: rect(1px 1px 1px 1px);\n",
       "  clip: rect(1px, 1px, 1px, 1px);\n",
       "  height: 1px;\n",
       "  margin: -1px;\n",
       "  overflow: hidden;\n",
       "  padding: 0;\n",
       "  position: absolute;\n",
       "  width: 1px;\n",
       "}\n",
       "\n",
       "#sk-container-id-1 div.sk-dashed-wrapped {\n",
       "  border: 1px dashed var(--sklearn-color-line);\n",
       "  margin: 0 0.4em 0.5em 0.4em;\n",
       "  box-sizing: border-box;\n",
       "  padding-bottom: 0.4em;\n",
       "  background-color: var(--sklearn-color-background);\n",
       "}\n",
       "\n",
       "#sk-container-id-1 div.sk-container {\n",
       "  /* jupyter's `normalize.less` sets `[hidden] { display: none; }`\n",
       "     but bootstrap.min.css set `[hidden] { display: none !important; }`\n",
       "     so we also need the `!important` here to be able to override the\n",
       "     default hidden behavior on the sphinx rendered scikit-learn.org.\n",
       "     See: https://github.com/scikit-learn/scikit-learn/issues/21755 */\n",
       "  display: inline-block !important;\n",
       "  position: relative;\n",
       "}\n",
       "\n",
       "#sk-container-id-1 div.sk-text-repr-fallback {\n",
       "  display: none;\n",
       "}\n",
       "\n",
       "div.sk-parallel-item,\n",
       "div.sk-serial,\n",
       "div.sk-item {\n",
       "  /* draw centered vertical line to link estimators */\n",
       "  background-image: linear-gradient(var(--sklearn-color-text-on-default-background), var(--sklearn-color-text-on-default-background));\n",
       "  background-size: 2px 100%;\n",
       "  background-repeat: no-repeat;\n",
       "  background-position: center center;\n",
       "}\n",
       "\n",
       "/* Parallel-specific style estimator block */\n",
       "\n",
       "#sk-container-id-1 div.sk-parallel-item::after {\n",
       "  content: \"\";\n",
       "  width: 100%;\n",
       "  border-bottom: 2px solid var(--sklearn-color-text-on-default-background);\n",
       "  flex-grow: 1;\n",
       "}\n",
       "\n",
       "#sk-container-id-1 div.sk-parallel {\n",
       "  display: flex;\n",
       "  align-items: stretch;\n",
       "  justify-content: center;\n",
       "  background-color: var(--sklearn-color-background);\n",
       "  position: relative;\n",
       "}\n",
       "\n",
       "#sk-container-id-1 div.sk-parallel-item {\n",
       "  display: flex;\n",
       "  flex-direction: column;\n",
       "}\n",
       "\n",
       "#sk-container-id-1 div.sk-parallel-item:first-child::after {\n",
       "  align-self: flex-end;\n",
       "  width: 50%;\n",
       "}\n",
       "\n",
       "#sk-container-id-1 div.sk-parallel-item:last-child::after {\n",
       "  align-self: flex-start;\n",
       "  width: 50%;\n",
       "}\n",
       "\n",
       "#sk-container-id-1 div.sk-parallel-item:only-child::after {\n",
       "  width: 0;\n",
       "}\n",
       "\n",
       "/* Serial-specific style estimator block */\n",
       "\n",
       "#sk-container-id-1 div.sk-serial {\n",
       "  display: flex;\n",
       "  flex-direction: column;\n",
       "  align-items: center;\n",
       "  background-color: var(--sklearn-color-background);\n",
       "  padding-right: 1em;\n",
       "  padding-left: 1em;\n",
       "}\n",
       "\n",
       "\n",
       "/* Toggleable style: style used for estimator/Pipeline/ColumnTransformer box that is\n",
       "clickable and can be expanded/collapsed.\n",
       "- Pipeline and ColumnTransformer use this feature and define the default style\n",
       "- Estimators will overwrite some part of the style using the `sk-estimator` class\n",
       "*/\n",
       "\n",
       "/* Pipeline and ColumnTransformer style (default) */\n",
       "\n",
       "#sk-container-id-1 div.sk-toggleable {\n",
       "  /* Default theme specific background. It is overwritten whether we have a\n",
       "  specific estimator or a Pipeline/ColumnTransformer */\n",
       "  background-color: var(--sklearn-color-background);\n",
       "}\n",
       "\n",
       "/* Toggleable label */\n",
       "#sk-container-id-1 label.sk-toggleable__label {\n",
       "  cursor: pointer;\n",
       "  display: flex;\n",
       "  width: 100%;\n",
       "  margin-bottom: 0;\n",
       "  padding: 0.5em;\n",
       "  box-sizing: border-box;\n",
       "  text-align: center;\n",
       "  align-items: start;\n",
       "  justify-content: space-between;\n",
       "  gap: 0.5em;\n",
       "}\n",
       "\n",
       "#sk-container-id-1 label.sk-toggleable__label .caption {\n",
       "  font-size: 0.6rem;\n",
       "  font-weight: lighter;\n",
       "  color: var(--sklearn-color-text-muted);\n",
       "}\n",
       "\n",
       "#sk-container-id-1 label.sk-toggleable__label-arrow:before {\n",
       "  /* Arrow on the left of the label */\n",
       "  content: \"▸\";\n",
       "  float: left;\n",
       "  margin-right: 0.25em;\n",
       "  color: var(--sklearn-color-icon);\n",
       "}\n",
       "\n",
       "#sk-container-id-1 label.sk-toggleable__label-arrow:hover:before {\n",
       "  color: var(--sklearn-color-text);\n",
       "}\n",
       "\n",
       "/* Toggleable content - dropdown */\n",
       "\n",
       "#sk-container-id-1 div.sk-toggleable__content {\n",
       "  max-height: 0;\n",
       "  max-width: 0;\n",
       "  overflow: hidden;\n",
       "  text-align: left;\n",
       "  /* unfitted */\n",
       "  background-color: var(--sklearn-color-unfitted-level-0);\n",
       "}\n",
       "\n",
       "#sk-container-id-1 div.sk-toggleable__content.fitted {\n",
       "  /* fitted */\n",
       "  background-color: var(--sklearn-color-fitted-level-0);\n",
       "}\n",
       "\n",
       "#sk-container-id-1 div.sk-toggleable__content pre {\n",
       "  margin: 0.2em;\n",
       "  border-radius: 0.25em;\n",
       "  color: var(--sklearn-color-text);\n",
       "  /* unfitted */\n",
       "  background-color: var(--sklearn-color-unfitted-level-0);\n",
       "}\n",
       "\n",
       "#sk-container-id-1 div.sk-toggleable__content.fitted pre {\n",
       "  /* unfitted */\n",
       "  background-color: var(--sklearn-color-fitted-level-0);\n",
       "}\n",
       "\n",
       "#sk-container-id-1 input.sk-toggleable__control:checked~div.sk-toggleable__content {\n",
       "  /* Expand drop-down */\n",
       "  max-height: 200px;\n",
       "  max-width: 100%;\n",
       "  overflow: auto;\n",
       "}\n",
       "\n",
       "#sk-container-id-1 input.sk-toggleable__control:checked~label.sk-toggleable__label-arrow:before {\n",
       "  content: \"▾\";\n",
       "}\n",
       "\n",
       "/* Pipeline/ColumnTransformer-specific style */\n",
       "\n",
       "#sk-container-id-1 div.sk-label input.sk-toggleable__control:checked~label.sk-toggleable__label {\n",
       "  color: var(--sklearn-color-text);\n",
       "  background-color: var(--sklearn-color-unfitted-level-2);\n",
       "}\n",
       "\n",
       "#sk-container-id-1 div.sk-label.fitted input.sk-toggleable__control:checked~label.sk-toggleable__label {\n",
       "  background-color: var(--sklearn-color-fitted-level-2);\n",
       "}\n",
       "\n",
       "/* Estimator-specific style */\n",
       "\n",
       "/* Colorize estimator box */\n",
       "#sk-container-id-1 div.sk-estimator input.sk-toggleable__control:checked~label.sk-toggleable__label {\n",
       "  /* unfitted */\n",
       "  background-color: var(--sklearn-color-unfitted-level-2);\n",
       "}\n",
       "\n",
       "#sk-container-id-1 div.sk-estimator.fitted input.sk-toggleable__control:checked~label.sk-toggleable__label {\n",
       "  /* fitted */\n",
       "  background-color: var(--sklearn-color-fitted-level-2);\n",
       "}\n",
       "\n",
       "#sk-container-id-1 div.sk-label label.sk-toggleable__label,\n",
       "#sk-container-id-1 div.sk-label label {\n",
       "  /* The background is the default theme color */\n",
       "  color: var(--sklearn-color-text-on-default-background);\n",
       "}\n",
       "\n",
       "/* On hover, darken the color of the background */\n",
       "#sk-container-id-1 div.sk-label:hover label.sk-toggleable__label {\n",
       "  color: var(--sklearn-color-text);\n",
       "  background-color: var(--sklearn-color-unfitted-level-2);\n",
       "}\n",
       "\n",
       "/* Label box, darken color on hover, fitted */\n",
       "#sk-container-id-1 div.sk-label.fitted:hover label.sk-toggleable__label.fitted {\n",
       "  color: var(--sklearn-color-text);\n",
       "  background-color: var(--sklearn-color-fitted-level-2);\n",
       "}\n",
       "\n",
       "/* Estimator label */\n",
       "\n",
       "#sk-container-id-1 div.sk-label label {\n",
       "  font-family: monospace;\n",
       "  font-weight: bold;\n",
       "  display: inline-block;\n",
       "  line-height: 1.2em;\n",
       "}\n",
       "\n",
       "#sk-container-id-1 div.sk-label-container {\n",
       "  text-align: center;\n",
       "}\n",
       "\n",
       "/* Estimator-specific */\n",
       "#sk-container-id-1 div.sk-estimator {\n",
       "  font-family: monospace;\n",
       "  border: 1px dotted var(--sklearn-color-border-box);\n",
       "  border-radius: 0.25em;\n",
       "  box-sizing: border-box;\n",
       "  margin-bottom: 0.5em;\n",
       "  /* unfitted */\n",
       "  background-color: var(--sklearn-color-unfitted-level-0);\n",
       "}\n",
       "\n",
       "#sk-container-id-1 div.sk-estimator.fitted {\n",
       "  /* fitted */\n",
       "  background-color: var(--sklearn-color-fitted-level-0);\n",
       "}\n",
       "\n",
       "/* on hover */\n",
       "#sk-container-id-1 div.sk-estimator:hover {\n",
       "  /* unfitted */\n",
       "  background-color: var(--sklearn-color-unfitted-level-2);\n",
       "}\n",
       "\n",
       "#sk-container-id-1 div.sk-estimator.fitted:hover {\n",
       "  /* fitted */\n",
       "  background-color: var(--sklearn-color-fitted-level-2);\n",
       "}\n",
       "\n",
       "/* Specification for estimator info (e.g. \"i\" and \"?\") */\n",
       "\n",
       "/* Common style for \"i\" and \"?\" */\n",
       "\n",
       ".sk-estimator-doc-link,\n",
       "a:link.sk-estimator-doc-link,\n",
       "a:visited.sk-estimator-doc-link {\n",
       "  float: right;\n",
       "  font-size: smaller;\n",
       "  line-height: 1em;\n",
       "  font-family: monospace;\n",
       "  background-color: var(--sklearn-color-background);\n",
       "  border-radius: 1em;\n",
       "  height: 1em;\n",
       "  width: 1em;\n",
       "  text-decoration: none !important;\n",
       "  margin-left: 0.5em;\n",
       "  text-align: center;\n",
       "  /* unfitted */\n",
       "  border: var(--sklearn-color-unfitted-level-1) 1pt solid;\n",
       "  color: var(--sklearn-color-unfitted-level-1);\n",
       "}\n",
       "\n",
       ".sk-estimator-doc-link.fitted,\n",
       "a:link.sk-estimator-doc-link.fitted,\n",
       "a:visited.sk-estimator-doc-link.fitted {\n",
       "  /* fitted */\n",
       "  border: var(--sklearn-color-fitted-level-1) 1pt solid;\n",
       "  color: var(--sklearn-color-fitted-level-1);\n",
       "}\n",
       "\n",
       "/* On hover */\n",
       "div.sk-estimator:hover .sk-estimator-doc-link:hover,\n",
       ".sk-estimator-doc-link:hover,\n",
       "div.sk-label-container:hover .sk-estimator-doc-link:hover,\n",
       ".sk-estimator-doc-link:hover {\n",
       "  /* unfitted */\n",
       "  background-color: var(--sklearn-color-unfitted-level-3);\n",
       "  color: var(--sklearn-color-background);\n",
       "  text-decoration: none;\n",
       "}\n",
       "\n",
       "div.sk-estimator.fitted:hover .sk-estimator-doc-link.fitted:hover,\n",
       ".sk-estimator-doc-link.fitted:hover,\n",
       "div.sk-label-container:hover .sk-estimator-doc-link.fitted:hover,\n",
       ".sk-estimator-doc-link.fitted:hover {\n",
       "  /* fitted */\n",
       "  background-color: var(--sklearn-color-fitted-level-3);\n",
       "  color: var(--sklearn-color-background);\n",
       "  text-decoration: none;\n",
       "}\n",
       "\n",
       "/* Span, style for the box shown on hovering the info icon */\n",
       ".sk-estimator-doc-link span {\n",
       "  display: none;\n",
       "  z-index: 9999;\n",
       "  position: relative;\n",
       "  font-weight: normal;\n",
       "  right: .2ex;\n",
       "  padding: .5ex;\n",
       "  margin: .5ex;\n",
       "  width: min-content;\n",
       "  min-width: 20ex;\n",
       "  max-width: 50ex;\n",
       "  color: var(--sklearn-color-text);\n",
       "  box-shadow: 2pt 2pt 4pt #999;\n",
       "  /* unfitted */\n",
       "  background: var(--sklearn-color-unfitted-level-0);\n",
       "  border: .5pt solid var(--sklearn-color-unfitted-level-3);\n",
       "}\n",
       "\n",
       ".sk-estimator-doc-link.fitted span {\n",
       "  /* fitted */\n",
       "  background: var(--sklearn-color-fitted-level-0);\n",
       "  border: var(--sklearn-color-fitted-level-3);\n",
       "}\n",
       "\n",
       ".sk-estimator-doc-link:hover span {\n",
       "  display: block;\n",
       "}\n",
       "\n",
       "/* \"?\"-specific style due to the `<a>` HTML tag */\n",
       "\n",
       "#sk-container-id-1 a.estimator_doc_link {\n",
       "  float: right;\n",
       "  font-size: 1rem;\n",
       "  line-height: 1em;\n",
       "  font-family: monospace;\n",
       "  background-color: var(--sklearn-color-background);\n",
       "  border-radius: 1rem;\n",
       "  height: 1rem;\n",
       "  width: 1rem;\n",
       "  text-decoration: none;\n",
       "  /* unfitted */\n",
       "  color: var(--sklearn-color-unfitted-level-1);\n",
       "  border: var(--sklearn-color-unfitted-level-1) 1pt solid;\n",
       "}\n",
       "\n",
       "#sk-container-id-1 a.estimator_doc_link.fitted {\n",
       "  /* fitted */\n",
       "  border: var(--sklearn-color-fitted-level-1) 1pt solid;\n",
       "  color: var(--sklearn-color-fitted-level-1);\n",
       "}\n",
       "\n",
       "/* On hover */\n",
       "#sk-container-id-1 a.estimator_doc_link:hover {\n",
       "  /* unfitted */\n",
       "  background-color: var(--sklearn-color-unfitted-level-3);\n",
       "  color: var(--sklearn-color-background);\n",
       "  text-decoration: none;\n",
       "}\n",
       "\n",
       "#sk-container-id-1 a.estimator_doc_link.fitted:hover {\n",
       "  /* fitted */\n",
       "  background-color: var(--sklearn-color-fitted-level-3);\n",
       "}\n",
       "</style><div id=\"sk-container-id-1\" class=\"sk-top-container\"><div class=\"sk-text-repr-fallback\"><pre>LinearRegression(n_jobs=-1)</pre><b>In a Jupyter environment, please rerun this cell to show the HTML representation or trust the notebook. <br />On GitHub, the HTML representation is unable to render, please try loading this page with nbviewer.org.</b></div><div class=\"sk-container\" hidden><div class=\"sk-item\"><div class=\"sk-estimator fitted sk-toggleable\"><input class=\"sk-toggleable__control sk-hidden--visually\" id=\"sk-estimator-id-1\" type=\"checkbox\" checked><label for=\"sk-estimator-id-1\" class=\"sk-toggleable__label fitted sk-toggleable__label-arrow\"><div><div>LinearRegression</div></div><div><a class=\"sk-estimator-doc-link fitted\" rel=\"noreferrer\" target=\"_blank\" href=\"https://scikit-learn.org/1.6/modules/generated/sklearn.linear_model.LinearRegression.html\">?<span>Documentation for LinearRegression</span></a><span class=\"sk-estimator-doc-link fitted\">i<span>Fitted</span></span></div></label><div class=\"sk-toggleable__content fitted\"><pre>LinearRegression(n_jobs=-1)</pre></div> </div></div></div></div>"
      ],
      "text/plain": [
       "LinearRegression(n_jobs=-1)"
      ]
     },
     "execution_count": 38,
     "metadata": {},
     "output_type": "execute_result"
    }
   ],
   "source": [
    "model"
   ]
  },
  {
   "cell_type": "code",
   "execution_count": 39,
   "id": "e94eb754-2773-4473-b04b-6d470711e0f6",
   "metadata": {},
   "outputs": [
    {
     "data": {
      "text/plain": [
       "{'R2': 0.44386065006256104, 'RMSE': 921.104248046875}"
      ]
     },
     "execution_count": 39,
     "metadata": {},
     "output_type": "execute_result"
    }
   ],
   "source": [
    "metric"
   ]
  },
  {
   "cell_type": "markdown",
   "id": "ce10ed54-071b-48bc-8eb4-900d2ba425c8",
   "metadata": {},
   "source": [
    "На валидационных данных получили метрику $R2 = 0.444$ и $RMSE = 921$, используя линейную модель "
   ]
  },
  {
   "cell_type": "code",
   "execution_count": 41,
   "id": "bcabe8ad-e765-46fd-b8e5-0c0665410a2d",
   "metadata": {},
   "outputs": [
    {
     "data": {
      "text/plain": [
       "['model.pkl']"
      ]
     },
     "execution_count": 41,
     "metadata": {},
     "output_type": "execute_result"
    }
   ],
   "source": [
    "joblib.dump(model, 'model.pkl')"
   ]
  },
  {
   "cell_type": "markdown",
   "id": "b4685b6e-57ca-4c45-8ac6-afd1da2d97a8",
   "metadata": {},
   "source": [
    "# Вывод"
   ]
  },
  {
   "cell_type": "markdown",
   "id": "d6a2d4f5-869f-48f3-a139-8fe501c1df9f",
   "metadata": {},
   "source": [
    "Основная задача состояла в том, чтобы обучить наши тренировочные данные, подготовленные в прошлом модуле и получить метрики на валидационной выборке. Рассматривались три модели: Линейная регрессия, LGBMRegressor, RandomForestRegressor.\n",
    "\n",
    "Модели были сравнены по точности и скорости:\n",
    "1. Линейная регрессия: скорость - 31 секунда $R2 = 0.432$, $RMSE= 930$\n",
    "2. RandomForest Regressor: скорость - 24.5 cсекунды $R2 ≈ 0$, $RMSE= 1234$\n",
    "3. LGBM: скорость - 54 секунды $R2 ≈ 0$, $RMSE= 1235$\n",
    "\n",
    "Линейная модель отработала медленее, чем Случайный лес, но гораздо точнее. Поэтому она была выбрана в качестве основной модели.\n",
    "В конце был написан пайплайн по обучению модели и предсказанию ее на валидационных данных. \n",
    "На валидационных данных получили метрику $R2 = 0.444$ и $RMSE = 921$"
   ]
  },
  {
   "cell_type": "code",
   "execution_count": null,
   "id": "5b29b6c9-ab51-4905-8207-8dc42441da08",
   "metadata": {},
   "outputs": [],
   "source": []
  }
 ],
 "metadata": {
  "kernelspec": {
   "display_name": "Python 3 (ipykernel)",
   "language": "python",
   "name": "python3"
  },
  "language_info": {
   "codemirror_mode": {
    "name": "ipython",
    "version": 3
   },
   "file_extension": ".py",
   "mimetype": "text/x-python",
   "name": "python",
   "nbconvert_exporter": "python",
   "pygments_lexer": "ipython3",
   "version": "3.10.16"
  }
 },
 "nbformat": 4,
 "nbformat_minor": 5
}
